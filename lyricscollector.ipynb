{
 "cells": [
  {
   "cell_type": "markdown",
   "metadata": {},
   "source": [
    "<h1> Lyrics Collector </h1>\n",
    "\n",
    "This Jupyter notebook can be used to collect lyrics from the Genius API by using the LyricsGenius wrapper.\n",
    "This notebook has two prerequisites: \n",
    "\n",
    "- You need a predefined dataset with Song Title and Artists. (It is based on an export from Exportify)\n",
    "- You need to register for the Genius API and require your own API key."
   ]
  },
  {
   "cell_type": "code",
   "execution_count": 6,
   "metadata": {},
   "outputs": [],
   "source": [
    "# importing libraries\n",
    "import lyricsgenius as genius\n",
    "import csv\n",
    "import json\n",
    "import pandas as pd\n",
    "from datetime import datetime\n",
    "import re "
   ]
  },
  {
   "cell_type": "code",
   "execution_count": 7,
   "metadata": {},
   "outputs": [],
   "source": [
    "# set up API , use your own API key\n",
    "api = genius.Genius(\"API-KEY\", sleep_time=0.01, verbose=False, remove_section_headers= True)"
   ]
  },
  {
   "cell_type": "code",
   "execution_count": 10,
   "metadata": {},
   "outputs": [
    {
     "output_type": "execute_result",
     "data": {
      "text/plain": "              Artist              Song Title\n0             Redman      Tonight's Da Night\n1               EPMD                Da Joint\n2  Warren G,O.G.L.B.               This D.J.\n3       Erick Sermon               Stay Real\n4           MC Serch       Back To The Grill\n5          Def Squad         Check N' Me Out\n6       Public Enemy  Tie Goes To The Runner\n7       Beastie Boys           The New Style\n8         Method Man          Bring The Pain\n9         Slick Rick        The Ruler's Back",
      "text/html": "<div>\n<style scoped>\n    .dataframe tbody tr th:only-of-type {\n        vertical-align: middle;\n    }\n\n    .dataframe tbody tr th {\n        vertical-align: top;\n    }\n\n    .dataframe thead th {\n        text-align: right;\n    }\n</style>\n<table border=\"1\" class=\"dataframe\">\n  <thead>\n    <tr style=\"text-align: right;\">\n      <th></th>\n      <th>Artist</th>\n      <th>Song Title</th>\n    </tr>\n  </thead>\n  <tbody>\n    <tr>\n      <th>0</th>\n      <td>Redman</td>\n      <td>Tonight's Da Night</td>\n    </tr>\n    <tr>\n      <th>1</th>\n      <td>EPMD</td>\n      <td>Da Joint</td>\n    </tr>\n    <tr>\n      <th>2</th>\n      <td>Warren G,O.G.L.B.</td>\n      <td>This D.J.</td>\n    </tr>\n    <tr>\n      <th>3</th>\n      <td>Erick Sermon</td>\n      <td>Stay Real</td>\n    </tr>\n    <tr>\n      <th>4</th>\n      <td>MC Serch</td>\n      <td>Back To The Grill</td>\n    </tr>\n    <tr>\n      <th>5</th>\n      <td>Def Squad</td>\n      <td>Check N' Me Out</td>\n    </tr>\n    <tr>\n      <th>6</th>\n      <td>Public Enemy</td>\n      <td>Tie Goes To The Runner</td>\n    </tr>\n    <tr>\n      <th>7</th>\n      <td>Beastie Boys</td>\n      <td>The New Style</td>\n    </tr>\n    <tr>\n      <th>8</th>\n      <td>Method Man</td>\n      <td>Bring The Pain</td>\n    </tr>\n    <tr>\n      <th>9</th>\n      <td>Slick Rick</td>\n      <td>The Ruler's Back</td>\n    </tr>\n  </tbody>\n</table>\n</div>"
     },
     "metadata": {},
     "execution_count": 10
    }
   ],
   "source": [
    "# open the quarantine playlist, download this using exportify\n",
    "df = pd.read_csv('CSV-DATASET') \n",
    "\n",
    "# renaming the columns\n",
    "df.rename(columns={'Track Name': 'Song Title', 'Artist Name(s)': 'Artist'}, inplace=True)\n",
    "\n",
    "# select only the bare minimum to prevent larger datasets than needed\n",
    "df = df[['Artist', 'Song Title']]\n",
    "\n",
    "df.head(10)"
   ]
  },
  {
   "cell_type": "code",
   "execution_count": 11,
   "metadata": {},
   "outputs": [
    {
     "output_type": "stream",
     "name": "stdout",
     "text": "Started at 2020-06-11 22:51:58.051259\nTimeout raised and caught:\nHTTPSConnectionPool(host='api.genius.com', port=443): Read timed out. (read timeout=5)\nTimeout raised and caught:\nHTTPSConnectionPool(host='api.genius.com', port=443): Read timed out. (read timeout=5)\nTimeout raised and caught:\nHTTPSConnectionPool(host='api.genius.com', port=443): Read timed out. (read timeout=5)\nTimeout raised and caught:\nHTTPSConnectionPool(host='api.genius.com', port=443): Read timed out. (read timeout=5)\nTimeout raised and caught:\nHTTPSConnectionPool(host='api.genius.com', port=443): Read timed out. (read timeout=5)\nTimeout raised and caught:\nHTTPSConnectionPool(host='api.genius.com', port=443): Read timed out. (read timeout=5)\nTimeout raised and caught:\nHTTPSConnectionPool(host='api.genius.com', port=443): Read timed out. (read timeout=5)\n\nCompleted at 2020-06-11 22:51:58.051259\nTotal time to collect: 1:13:01.583006\n"
    },
    {
     "output_type": "execute_result",
     "data": {
      "text/plain": "              Artist                                             Lyrics  \\\n0             Redman  Mic check, I can get smooth to any groove Rela...   \n1               EPMD  I make a million...bucks Every six months and ...   \n2  Warren G,O.G.L.B.  It's kind of easy when you listen to the G'd-u...   \n3       Erick Sermon  It's on breaker 1, 2 mike checkin' Flexin no h...   \n4           MC Serch  Back to the grill again, the grill again (Repe...   \n\n           Song Title  \n0  Tonight's Da Night  \n1            Da Joint  \n2           This D.J.  \n3           Stay Real  \n4   Back To The Grill  ",
      "text/html": "<div>\n<style scoped>\n    .dataframe tbody tr th:only-of-type {\n        vertical-align: middle;\n    }\n\n    .dataframe tbody tr th {\n        vertical-align: top;\n    }\n\n    .dataframe thead th {\n        text-align: right;\n    }\n</style>\n<table border=\"1\" class=\"dataframe\">\n  <thead>\n    <tr style=\"text-align: right;\">\n      <th></th>\n      <th>Artist</th>\n      <th>Lyrics</th>\n      <th>Song Title</th>\n    </tr>\n  </thead>\n  <tbody>\n    <tr>\n      <th>0</th>\n      <td>Redman</td>\n      <td>Mic check, I can get smooth to any groove Rela...</td>\n      <td>Tonight's Da Night</td>\n    </tr>\n    <tr>\n      <th>1</th>\n      <td>EPMD</td>\n      <td>I make a million...bucks Every six months and ...</td>\n      <td>Da Joint</td>\n    </tr>\n    <tr>\n      <th>2</th>\n      <td>Warren G,O.G.L.B.</td>\n      <td>It's kind of easy when you listen to the G'd-u...</td>\n      <td>This D.J.</td>\n    </tr>\n    <tr>\n      <th>3</th>\n      <td>Erick Sermon</td>\n      <td>It's on breaker 1, 2 mike checkin' Flexin no h...</td>\n      <td>Stay Real</td>\n    </tr>\n    <tr>\n      <th>4</th>\n      <td>MC Serch</td>\n      <td>Back to the grill again, the grill again (Repe...</td>\n      <td>Back To The Grill</td>\n    </tr>\n  </tbody>\n</table>\n</div>"
     },
     "metadata": {},
     "execution_count": 11
    }
   ],
   "source": [
    "song_data = pd.DataFrame()\n",
    "start_time = datetime.now()\n",
    "print(\"Started at {}\".format(start_time))\n",
    "for i in range(0, len(df)):\n",
    "    rolling_pct = int((i/len(df))*100)\n",
    "    song_title = df.iloc[i]['Song Title']\n",
    "    song_title = re.sub(\" and \", \" & \", song_title)\n",
    "    artist_name = df.iloc[i]['Artist']\n",
    "    artist_name = re.sub(\" and \", \" & \", artist_name)\n",
    "\n",
    "    try:\n",
    "        song = api.search_song(song_title, artist=artist_name)\n",
    "        #print(song)\n",
    "        song_lyrics = re.sub(\"\\n\", \" \", song.lyrics) #Remove newline breaks, we won't need them.\n",
    "\n",
    "    except:\n",
    "        song_lyrics = \"null\"\n",
    "    \n",
    "    row = {\n",
    "        \"Song Title\": df.iloc[i]['Song Title'],\n",
    "        \"Artist\": df.iloc[i]['Artist'],\n",
    "        \"Lyrics\": song_lyrics\n",
    "    }\n",
    "    song_data = song_data.append(row, ignore_index=True)\n",
    "end_time = datetime.now()\n",
    "print(\"\\nCompleted at {}\".format(start_time))\n",
    "print(\"Total time to collect: {}\".format(end_time - start_time))\n",
    "\n",
    "song_data.head()"
   ]
  },
  {
   "cell_type": "code",
   "execution_count": 12,
   "metadata": {},
   "outputs": [],
   "source": [
    "# save to .csv and .json\n",
    "song_data.to_csv(\"hiphop.csv\")\n",
    "song_data.to_json(\"hiphop.json\", orient='records')"
   ]
  },
  {
   "cell_type": "code",
   "execution_count": 13,
   "metadata": {},
   "outputs": [
    {
     "output_type": "display_data",
     "data": {
      "text/plain": "                   Artist                                             Lyrics  \\\n0                  Redman  Mic check, I can get smooth to any groove Rela...   \n1                    EPMD  I make a million...bucks Every six months and ...   \n2       Warren G,O.G.L.B.  It's kind of easy when you listen to the G'd-u...   \n3            Erick Sermon  It's on breaker 1, 2 mike checkin' Flexin no h...   \n4                MC Serch  Back to the grill again, the grill again (Repe...   \n...                   ...                                                ...   \n1056  CHLOBOCOP,Lee Scott                         Lyrics for this song ha...   \n1057          Piers James  As we there are where are we are we there from...   \n1058            Yeti,Mase  Yo, yo, yo, yo, yo, yo Whoo, whoo, whoo Yeah, ...   \n1061                   CP  I see u niggas is nervous New D - E leave yo a...   \n1063          Asoh Black!  Aye huh  Bad bitch But I bet she let a nigga f...   \n\n              Song Title  \n0     Tonight's Da Night  \n1               Da Joint  \n2              This D.J.  \n3              Stay Real  \n4      Back To The Grill  \n...                  ...  \n1056        BELL ME BACK  \n1057      Garden of Eden  \n1058          Be Mindful  \n1061            Need Sum  \n1063              Foolie  \n\n[949 rows x 3 columns]",
      "text/html": "<div>\n<style scoped>\n    .dataframe tbody tr th:only-of-type {\n        vertical-align: middle;\n    }\n\n    .dataframe tbody tr th {\n        vertical-align: top;\n    }\n\n    .dataframe thead th {\n        text-align: right;\n    }\n</style>\n<table border=\"1\" class=\"dataframe\">\n  <thead>\n    <tr style=\"text-align: right;\">\n      <th></th>\n      <th>Artist</th>\n      <th>Lyrics</th>\n      <th>Song Title</th>\n    </tr>\n  </thead>\n  <tbody>\n    <tr>\n      <th>0</th>\n      <td>Redman</td>\n      <td>Mic check, I can get smooth to any groove Rela...</td>\n      <td>Tonight's Da Night</td>\n    </tr>\n    <tr>\n      <th>1</th>\n      <td>EPMD</td>\n      <td>I make a million...bucks Every six months and ...</td>\n      <td>Da Joint</td>\n    </tr>\n    <tr>\n      <th>2</th>\n      <td>Warren G,O.G.L.B.</td>\n      <td>It's kind of easy when you listen to the G'd-u...</td>\n      <td>This D.J.</td>\n    </tr>\n    <tr>\n      <th>3</th>\n      <td>Erick Sermon</td>\n      <td>It's on breaker 1, 2 mike checkin' Flexin no h...</td>\n      <td>Stay Real</td>\n    </tr>\n    <tr>\n      <th>4</th>\n      <td>MC Serch</td>\n      <td>Back to the grill again, the grill again (Repe...</td>\n      <td>Back To The Grill</td>\n    </tr>\n    <tr>\n      <th>...</th>\n      <td>...</td>\n      <td>...</td>\n      <td>...</td>\n    </tr>\n    <tr>\n      <th>1056</th>\n      <td>CHLOBOCOP,Lee Scott</td>\n      <td>Lyrics for this song ha...</td>\n      <td>BELL ME BACK</td>\n    </tr>\n    <tr>\n      <th>1057</th>\n      <td>Piers James</td>\n      <td>As we there are where are we are we there from...</td>\n      <td>Garden of Eden</td>\n    </tr>\n    <tr>\n      <th>1058</th>\n      <td>Yeti,Mase</td>\n      <td>Yo, yo, yo, yo, yo, yo Whoo, whoo, whoo Yeah, ...</td>\n      <td>Be Mindful</td>\n    </tr>\n    <tr>\n      <th>1061</th>\n      <td>CP</td>\n      <td>I see u niggas is nervous New D - E leave yo a...</td>\n      <td>Need Sum</td>\n    </tr>\n    <tr>\n      <th>1063</th>\n      <td>Asoh Black!</td>\n      <td>Aye huh  Bad bitch But I bet she let a nigga f...</td>\n      <td>Foolie</td>\n    </tr>\n  </tbody>\n</table>\n<p>949 rows × 3 columns</p>\n</div>"
     },
     "metadata": {}
    }
   ],
   "source": [
    "# checking the .csv and seeing how many songs it could not find\n",
    "hiphop = pd.read_csv('hiphop.csv', index_col=0)\n",
    "display(hiphop)"
   ]
  },
  {
   "cell_type": "code",
   "execution_count": null,
   "metadata": {},
   "outputs": [],
   "source": []
  }
 ],
 "metadata": {
  "language_info": {
   "name": "python",
   "codemirror_mode": {
    "name": "ipython",
    "version": 3
   },
   "version": "3.7.6-final"
  },
  "orig_nbformat": 2,
  "file_extension": ".py",
  "mimetype": "text/x-python",
  "name": "python",
  "npconvert_exporter": "python",
  "pygments_lexer": "ipython3",
  "version": 3,
  "kernelspec": {
   "name": "python38264bitmyenvconda7690db94d893454ab5c05277d5bf576d",
   "display_name": "Python 3.8.2 64-bit ('myenv': conda)"
  }
 },
 "nbformat": 4,
 "nbformat_minor": 2
}